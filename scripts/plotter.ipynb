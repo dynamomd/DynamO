{
 "cells": [
  {
   "cell_type": "code",
   "execution_count": null,
   "id": "bbb1036b",
   "metadata": {},
   "outputs": [],
   "source": [
    "import pandas\n",
    "import pickle\n",
    "import ipecharts\n",
    "import pydynamo\n",
    "import uncertainties\n",
    "import collections\n",
    "import matplotlib\n",
    "import matplotlib.pyplot as plt\n",
    "\n",
    "\n",
    "base = \"SW_eos\"\n",
    "# Load the files from the fetch_data\n",
    "state_data = pickle.load(open(f\"{base}.raw_data.pkl\", \"rb\"))\n",
    "state_vars = set([j[0] for k in state_data.keys() for j in k])\n",
    "\n",
    "# Turn state variables into a multi-index, with a particular preferred order\n",
    "preferred_state_order = (\"Lambda\", \"kT\", \"ndensity\", \"N\")\n",
    "state_vars = sorted(state_vars, key=lambda x: preferred_state_order.index(x) if x in preferred_state_order else -1)\n",
    "orig_df = pickle.load(open(f\"{base}.df.pkl\", \"rb\"))\n",
    "orig_df.set_index(list(state_vars), inplace=True)\n",
    "\n",
    "# Filter out columns that do not change (boring state variables i.e.)\n",
    "#orig_df = orig_df.loc[:, orig_df.nunique() > 1]\n",
    "\n",
    "# Create a dataframe of scalars\n",
    "scalar_df = orig_df.copy()\n",
    "for col in scalar_df.columns:\n",
    "    if scalar_df[col].dtype == \"object\":\n",
    "        if isinstance(scalar_df[col].iloc[0], collections.abc.Iterable):\n",
    "            del scalar_df[col]\n",
    "scalar_df"
   ]
  },
  {
   "cell_type": "code",
   "execution_count": null,
   "id": "3c5f65e0",
   "metadata": {},
   "outputs": [],
   "source": [
    "import matplotlib.pyplot as plt\n",
    "\n",
    "for state in state_data.keys():\n",
    "    if not (\"Lambda\", 1.5) in state or not (\"kT\", 1.5) in state or not (\"ndensity\", 1.0) in state:\n",
    "        continue\n",
    "\n",
    "    row = state_data[state][\"ChungLu\"]\n",
    "\n",
    "    bond_order = row[\"bond_order_count\"].ufloat()\n",
    "    particle_order = row[\"order_count\"].ufloat()\n",
    "\n",
    "    curve = [(k[0] * k[1], (v / (particle_order[k[0]] * (particle_order[k[1]] - float(k[0] == k[1])))).nominal_value, (v / (particle_order[k[0]] * (particle_order[k[1]] - float(k[0] == k[1])))).std_dev) for k,v in bond_order.items()]\n",
    "    print(curve)\n",
    "    plt.errorbar(\n",
    "        [k[0] for k in curve],\n",
    "        [k[1] for k in curve],\n",
    "        yerr=[k[2] for k in curve],\n",
    "        label=state[-1],\n",
    "        fmt=\"x\",\n",
    "    )\n",
    "plt.xlabel(\"$k_i\\\\,k_j$\")\n",
    "plt.ylabel(\"$\\\\frac{N(k_i,\\\\,k_j)}{N(k_i)\\\\,N(k_j)}$\")\n",
    "plt.yscale(\"log\")\n",
    "plt.legend()\n",
    "plt.grid()\n",
    "plt.show()"
   ]
  },
  {
   "cell_type": "code",
   "execution_count": null,
   "id": "fc6e9d0c",
   "metadata": {},
   "outputs": [],
   "source": []
  }
 ],
 "metadata": {
  "kernelspec": {
   "display_name": ".venv",
   "language": "python",
   "name": "python3"
  },
  "language_info": {
   "codemirror_mode": {
    "name": "ipython",
    "version": 3
   },
   "file_extension": ".py",
   "mimetype": "text/x-python",
   "name": "python",
   "nbconvert_exporter": "python",
   "pygments_lexer": "ipython3",
   "version": "3.13.2"
  }
 },
 "nbformat": 4,
 "nbformat_minor": 5
}
